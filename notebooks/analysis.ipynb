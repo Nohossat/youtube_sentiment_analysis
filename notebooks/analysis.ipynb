{
 "cells": [
  {
   "cell_type": "markdown",
   "metadata": {},
   "source": [
    "# Problématique\n",
    "\n",
    "Il s'agit d'un problème d'analyse de sentiment soit un problème de classification. On a récupéré un fichier **run.py** permettant de récupérer les prédictions du modèle, le fichier **sentiment_pipe.joblib** et un dataset **comment_train.csv**. Mais il faudrait analyser le modèle et les données pour comprendre la démarche de notre prédécesseur et voir les actions possibles."
   ]
  },
  {
   "cell_type": "markdown",
   "metadata": {},
   "source": [
    "## Analyse des données\n",
    "\n",
    "Les données utilisées pour l'entrainement sont des commentaires de restaurants avec 2 types de sentiments : **Positif / Négatif**."
   ]
  },
  {
   "cell_type": "code",
   "execution_count": 4,
   "metadata": {},
   "outputs": [],
   "source": [
    "import pandas as pd\n",
    "import numpy as np\n",
    "import matplotlib.pyplot as plt\n",
    "import joblib"
   ]
  },
  {
   "cell_type": "code",
   "execution_count": 5,
   "metadata": {},
   "outputs": [
    {
     "data": {
      "text/html": [
       "<div>\n",
       "<style scoped>\n",
       "    .dataframe tbody tr th:only-of-type {\n",
       "        vertical-align: middle;\n",
       "    }\n",
       "\n",
       "    .dataframe tbody tr th {\n",
       "        vertical-align: top;\n",
       "    }\n",
       "\n",
       "    .dataframe thead th {\n",
       "        text-align: right;\n",
       "    }\n",
       "</style>\n",
       "<table border=\"1\" class=\"dataframe\">\n",
       "  <thead>\n",
       "    <tr style=\"text-align: right;\">\n",
       "      <th></th>\n",
       "      <th>comment</th>\n",
       "      <th>sentiment</th>\n",
       "    </tr>\n",
       "  </thead>\n",
       "  <tbody>\n",
       "    <tr>\n",
       "      <th>0</th>\n",
       "      <td>J'ai réservé ma table quelques mois à l'avance...</td>\n",
       "      <td>Positive</td>\n",
       "    </tr>\n",
       "    <tr>\n",
       "      <th>1</th>\n",
       "      <td>Que dire... Nicolas sale est un chef d excepti...</td>\n",
       "      <td>Positive</td>\n",
       "    </tr>\n",
       "    <tr>\n",
       "      <th>2</th>\n",
       "      <td>Dans une rue tranquille non loin du Panthéon u...</td>\n",
       "      <td>Positive</td>\n",
       "    </tr>\n",
       "    <tr>\n",
       "      <th>3</th>\n",
       "      <td>Rien à redire le restaurant est irréprochablem...</td>\n",
       "      <td>Positive</td>\n",
       "    </tr>\n",
       "    <tr>\n",
       "      <th>4</th>\n",
       "      <td>Comme avec les autres commentaires nos repas é...</td>\n",
       "      <td>Positive</td>\n",
       "    </tr>\n",
       "  </tbody>\n",
       "</table>\n",
       "</div>"
      ],
      "text/plain": [
       "                                             comment sentiment\n",
       "0  J'ai réservé ma table quelques mois à l'avance...  Positive\n",
       "1  Que dire... Nicolas sale est un chef d excepti...  Positive\n",
       "2  Dans une rue tranquille non loin du Panthéon u...  Positive\n",
       "3  Rien à redire le restaurant est irréprochablem...  Positive\n",
       "4  Comme avec les autres commentaires nos repas é...  Positive"
      ]
     },
     "execution_count": 5,
     "metadata": {},
     "output_type": "execute_result"
    }
   ],
   "source": [
    "df = pd.read_csv(\"../data/comments_train.csv\")\n",
    "df.head()"
   ]
  },
  {
   "cell_type": "code",
   "execution_count": 6,
   "metadata": {
    "tags": []
   },
   "outputs": [
    {
     "name": "stdout",
     "output_type": "stream",
     "text": [
      "Il y a au total 1617 commentaires.\n"
     ]
    }
   ],
   "source": [
    "print(f\"Il y a au total {df.sentiment.count()} commentaires.\")"
   ]
  },
  {
   "cell_type": "code",
   "execution_count": 7,
   "metadata": {},
   "outputs": [
    {
     "data": {
      "text/html": [
       "<div>\n",
       "<style scoped>\n",
       "    .dataframe tbody tr th:only-of-type {\n",
       "        vertical-align: middle;\n",
       "    }\n",
       "\n",
       "    .dataframe tbody tr th {\n",
       "        vertical-align: top;\n",
       "    }\n",
       "\n",
       "    .dataframe thead th {\n",
       "        text-align: right;\n",
       "    }\n",
       "</style>\n",
       "<table border=\"1\" class=\"dataframe\">\n",
       "  <thead>\n",
       "    <tr style=\"text-align: right;\">\n",
       "      <th></th>\n",
       "      <th>comment</th>\n",
       "      <th>sentiment</th>\n",
       "    </tr>\n",
       "  </thead>\n",
       "  <tbody>\n",
       "    <tr>\n",
       "      <th>count</th>\n",
       "      <td>1617</td>\n",
       "      <td>1617</td>\n",
       "    </tr>\n",
       "    <tr>\n",
       "      <th>unique</th>\n",
       "      <td>1534</td>\n",
       "      <td>2</td>\n",
       "    </tr>\n",
       "    <tr>\n",
       "      <th>top</th>\n",
       "      <td>Je suis en couple avec une japonaise depuis 20...</td>\n",
       "      <td>Positive</td>\n",
       "    </tr>\n",
       "    <tr>\n",
       "      <th>freq</th>\n",
       "      <td>5</td>\n",
       "      <td>1019</td>\n",
       "    </tr>\n",
       "  </tbody>\n",
       "</table>\n",
       "</div>"
      ],
      "text/plain": [
       "                                                  comment sentiment\n",
       "count                                                1617      1617\n",
       "unique                                               1534         2\n",
       "top     Je suis en couple avec une japonaise depuis 20...  Positive\n",
       "freq                                                    5      1019"
      ]
     },
     "execution_count": 7,
     "metadata": {},
     "output_type": "execute_result"
    }
   ],
   "source": [
    "df.describe()"
   ]
  },
  {
   "cell_type": "code",
   "execution_count": 8,
   "metadata": {},
   "outputs": [
    {
     "name": "stdout",
     "output_type": "stream",
     "text": [
      "Il y a 2 types de sentiments : ['Positive' 'Negative']\n"
     ]
    }
   ],
   "source": [
    "print(f\"Il y a 2 types de sentiments : {df.sentiment.unique()}\")"
   ]
  },
  {
   "cell_type": "code",
   "execution_count": 9,
   "metadata": {},
   "outputs": [
    {
     "data": {
      "image/png": "[encoded data removed]",
      "text/plain": [
       "<Figure size 432x288 with 1 Axes>"
      ]
     },
     "metadata": {},
     "output_type": "display_data"
    }
   ],
   "source": [
    "# répartition des classes dans le label\n",
    "plt.pie(df.sentiment.value_counts(normalize = True), \n",
    "        labels=df.sentiment.unique(), \n",
    "        autopct='%1.1f%%',\n",
    "        shadow=True, startangle=90)\n",
    "\n",
    "plt.show()"
   ]
  },
  {
   "cell_type": "markdown",
   "metadata": {},
   "source": [
    "Les classes sont légèrement déséquilibrées. \n",
    "- actions possibles:\n",
    "- stratify pendant l'entraînement\n",
    "- ajout de commentaires négatifs\n",
    "- SMOTE"
   ]
  },
  {
   "cell_type": "markdown",
   "metadata": {},
   "source": [
    "Il y a des doublons dans les commentaires 1617 commentaires mais seulement 1534 uniques soit 83 commentaires dupliqués."
   ]
  },
  {
   "cell_type": "code",
   "execution_count": 10,
   "metadata": {},
   "outputs": [
    {
     "data": {
      "text/html": [
       "<div>\n",
       "<style scoped>\n",
       "    .dataframe tbody tr th:only-of-type {\n",
       "        vertical-align: middle;\n",
       "    }\n",
       "\n",
       "    .dataframe tbody tr th {\n",
       "        vertical-align: top;\n",
       "    }\n",
       "\n",
       "    .dataframe thead th {\n",
       "        text-align: right;\n",
       "    }\n",
       "</style>\n",
       "<table border=\"1\" class=\"dataframe\">\n",
       "  <thead>\n",
       "    <tr style=\"text-align: right;\">\n",
       "      <th></th>\n",
       "      <th>comment</th>\n",
       "      <th>sentiment</th>\n",
       "    </tr>\n",
       "  </thead>\n",
       "  <tbody>\n",
       "    <tr>\n",
       "      <th>261</th>\n",
       "      <td>Decor tres agreeable du debut du siecle mais l...</td>\n",
       "      <td>Negative</td>\n",
       "    </tr>\n",
       "    <tr>\n",
       "      <th>318</th>\n",
       "      <td>Nous avons passé une soirée d'anniversaire en ...</td>\n",
       "      <td>Negative</td>\n",
       "    </tr>\n",
       "    <tr>\n",
       "      <th>330</th>\n",
       "      <td>Nous avons été dîners dans ce fameux restauran...</td>\n",
       "      <td>Negative</td>\n",
       "    </tr>\n",
       "    <tr>\n",
       "      <th>349</th>\n",
       "      <td>Le chef Jean Edern est très accessible et prof...</td>\n",
       "      <td>Negative</td>\n",
       "    </tr>\n",
       "    <tr>\n",
       "      <th>396</th>\n",
       "      <td>Médiocre et très cher ! 2 salades d'algues au ...</td>\n",
       "      <td>Negative</td>\n",
       "    </tr>\n",
       "    <tr>\n",
       "      <th>...</th>\n",
       "      <td>...</td>\n",
       "      <td>...</td>\n",
       "    </tr>\n",
       "    <tr>\n",
       "      <th>1559</th>\n",
       "      <td>Après avoir quitté précipitamment le restauran...</td>\n",
       "      <td>Negative</td>\n",
       "    </tr>\n",
       "    <tr>\n",
       "      <th>1563</th>\n",
       "      <td>Hors de prix pour une mauvaise expérience Dans...</td>\n",
       "      <td>Negative</td>\n",
       "    </tr>\n",
       "    <tr>\n",
       "      <th>1573</th>\n",
       "      <td>Médiocre et très cher ! 2 salades d'algues au ...</td>\n",
       "      <td>Negative</td>\n",
       "    </tr>\n",
       "    <tr>\n",
       "      <th>1579</th>\n",
       "      <td>Nous sommes quatre ce jour pour déjeuner en ce...</td>\n",
       "      <td>Negative</td>\n",
       "    </tr>\n",
       "    <tr>\n",
       "      <th>1593</th>\n",
       "      <td>Très bon accueil sympathique souriant. Assiett...</td>\n",
       "      <td>Negative</td>\n",
       "    </tr>\n",
       "  </tbody>\n",
       "</table>\n",
       "<p>83 rows × 2 columns</p>\n",
       "</div>"
      ],
      "text/plain": [
       "                                                comment sentiment\n",
       "261   Decor tres agreeable du debut du siecle mais l...  Negative\n",
       "318   Nous avons passé une soirée d'anniversaire en ...  Negative\n",
       "330   Nous avons été dîners dans ce fameux restauran...  Negative\n",
       "349   Le chef Jean Edern est très accessible et prof...  Negative\n",
       "396   Médiocre et très cher ! 2 salades d'algues au ...  Negative\n",
       "...                                                 ...       ...\n",
       "1559  Après avoir quitté précipitamment le restauran...  Negative\n",
       "1563  Hors de prix pour une mauvaise expérience Dans...  Negative\n",
       "1573  Médiocre et très cher ! 2 salades d'algues au ...  Negative\n",
       "1579  Nous sommes quatre ce jour pour déjeuner en ce...  Negative\n",
       "1593  Très bon accueil sympathique souriant. Assiett...  Negative\n",
       "\n",
       "[83 rows x 2 columns]"
      ]
     },
     "execution_count": 10,
     "metadata": {},
     "output_type": "execute_result"
    }
   ],
   "source": [
    "duplicated_comments = df.loc[df.comment.duplicated(keep='first')]\n",
    "duplicated_comments"
   ]
  },
  {
   "cell_type": "code",
   "execution_count": 11,
   "metadata": {},
   "outputs": [
    {
     "data": {
      "image/png": "[encoded data removed]",
      "text/plain": [
       "<Figure size 432x288 with 1 Axes>"
      ]
     },
     "metadata": {},
     "output_type": "display_data"
    }
   ],
   "source": [
    "# répartition des classes dans le label parmi les commentaires dupliqués\n",
    "plt.pie(duplicated_comments.sentiment.value_counts(normalize = True), \n",
    "        labels=duplicated_comments.sentiment.unique(), \n",
    "        autopct='%1.1f%%',\n",
    "        shadow=True, startangle=90)\n",
    "\n",
    "plt.show()"
   ]
  },
  {
   "cell_type": "code",
   "execution_count": 54,
   "metadata": {},
   "outputs": [],
   "source": [
    "df_clean = df.drop_duplicates()"
   ]
  },
  {
   "cell_type": "markdown",
   "metadata": {},
   "source": [
    ">95,2% des commentaires dupliqués sont négatifs. Ce qui renforce le déséquilibre."
   ]
  },
  {
   "cell_type": "code",
   "execution_count": 55,
   "metadata": {},
   "outputs": [
    {
     "data": {
      "text/plain": [
       "comment      0\n",
       "sentiment    0\n",
       "dtype: int64"
      ]
     },
     "execution_count": 55,
     "metadata": {},
     "output_type": "execute_result"
    }
   ],
   "source": [
    "df_clean.isna().sum() # pas de valeurs manquantes"
   ]
  },
  {
   "cell_type": "markdown",
   "metadata": {},
   "source": [
    "## Observation sur les données\n",
    "\n",
    "- Pas de valeurs manquantes\n",
    "- Commentaires dupliqués dont 95% négatifs\n",
    "- Classes du label sentiment légèrement déséquilibrés (63 / 37)"
   ]
  },
  {
   "cell_type": "markdown",
   "metadata": {},
   "source": [
    "## Chargement du modèle"
   ]
  },
  {
   "cell_type": "code",
   "execution_count": 14,
   "metadata": {},
   "outputs": [
    {
     "data": {
      "text/plain": [
       "Pipeline(steps=[('tfidf', TfidfVectorizer()),\n",
       "                ('clf', SVC(C=1000, gamma=0.001))])"
      ]
     },
     "execution_count": 14,
     "metadata": {},
     "output_type": "execute_result"
    }
   ],
   "source": [
    "model = joblib.load(\"../models/sentiment_pipe.joblib\")\n",
    "model"
   ]
  },
  {
   "cell_type": "markdown",
   "metadata": {},
   "source": [
    ">Pour empêcher les problèmes de compatibilité, on utilisera la version **0.23.2** de Scikit Learn."
   ]
  },
  {
   "cell_type": "code",
   "execution_count": 15,
   "metadata": {},
   "outputs": [
    {
     "data": {
      "text/plain": [
       "'0.23.2'"
      ]
     },
     "execution_count": 15,
     "metadata": {},
     "output_type": "execute_result"
    }
   ],
   "source": [
    "import sklearn\n",
    "\n",
    "sklearn.__version__"
   ]
  },
  {
   "cell_type": "markdown",
   "metadata": {},
   "source": [
    "On a un pipeline Scikit Learn avec 2 étapes : \n",
    "- un TF-IDF avec les arguments par défaut du vectorizer\n",
    "- SVM avec le coefficient C à 1000 et le gamma à 0.001\n",
    "\n",
    "Ce modèle n'utilise pas les nombreux paramètres du Tf-Idf pour nettoyer les chaînes de caractères (tokenizer, stop_words, token_pattern).\n",
    "\n",
    "> Action à mener : ajouter une étape de nettoyage des données\n",
    "\n",
    "En ce qui concerne, les performances du modèle, il faudrait récupérer les métriques de ce dernier et comparer avec un grid search pour savoir s'il s'agit du meilleur modèle SVM. \n",
    "\n",
    "On pourra aussi aller plus loin en testant d'autres algorithmes tels que des algorithmes ensemblistes."
   ]
  },
  {
   "cell_type": "code",
   "execution_count": 41,
   "metadata": {},
   "outputs": [
    {
     "data": {
      "text/plain": [
       "<1617x3466 sparse matrix of type '<class 'numpy.float64'>'\n",
       "\twith 42229 stored elements in Compressed Sparse Row format>"
      ]
     },
     "execution_count": 41,
     "metadata": {},
     "output_type": "execute_result"
    }
   ],
   "source": [
    "# dimension du dataset passé dans le SVM\n",
    "model.steps[0][1].transform(df.comment.values)"
   ]
  },
  {
   "cell_type": "markdown",
   "metadata": {},
   "source": [
    "## Performances du modèle sans altération des données ou du modèle\n",
    "\n",
    "Le dataset **comment_train.csv** a été utilisé au cours de l'entraînement du modèle."
   ]
  },
  {
   "cell_type": "markdown",
   "metadata": {},
   "source": [
    "## Création des fonctions de performances"
   ]
  },
  {
   "cell_type": "code",
   "execution_count": 65,
   "metadata": {},
   "outputs": [],
   "source": [
    "from sklearn.pipeline import Pipeline\n",
    "from sklearn.feature_extraction.text import TfidfVectorizer\n",
    "from sklearn.svm import SVC\n",
    "from sklearn.model_selection import train_test_split, cross_val_score, cross_validate\n",
    "from sklearn.metrics import accuracy_score, precision_score, recall_score, f1_score, roc_curve, plot_roc_curve, classification_report"
   ]
  },
  {
   "cell_type": "code",
   "execution_count": 57,
   "metadata": {},
   "outputs": [],
   "source": [
    "def split_data(data):\n",
    "    # split dataset between features and label\n",
    "    target = \"sentiment\"\n",
    "    X = data.drop(target, axis = 1)\n",
    "    X = [comment[0] for comment in X.values]\n",
    "    y = data[target]\n",
    "    y.loc[y == \"Positive\"] = 1\n",
    "    y.loc[y == \"Negative\"] = 0\n",
    "    y = y.values.tolist()\n",
    "    return X, y"
   ]
  },
  {
   "cell_type": "code",
   "execution_count": 70,
   "metadata": {},
   "outputs": [],
   "source": [
    "# compute metrics without cross validation\n",
    "def compute_metrics(model, data):\n",
    "    X, y = split_data(data)\n",
    "    predictions = model.predict(X)\n",
    "    \n",
    "    # define metrics\n",
    "    print(classification_report(model.predict(X), y))\n",
    "    \n",
    "    # plot AUC-ROC curve\n",
    "    fig, ax = plt.subplots()\n",
    "    mean_fpr = np.linspace(0, 1, 100)\n",
    "    viz = plot_roc_curve(model, X, y,\n",
    "                             name='ROC curve',\n",
    "                             alpha=0.3, lw=2, ax = ax)\n",
    "    interp_tpr = np.interp(mean_fpr, viz.fpr, viz.tpr)\n",
    "    ax.plot([0, 1], [0, 1], linestyle='--', lw=1, color='r',\n",
    "            label='Chance', alpha=.8)\n",
    "\n",
    "    ax.legend(loc=\"lower right\")\n",
    "    plt.show()\n",
    "    \n",
    "    return None"
   ]
  },
  {
   "cell_type": "code",
   "execution_count": 59,
   "metadata": {},
   "outputs": [],
   "source": [
    "# evolution : compute metrics with cross validation\n",
    "def compute_metrics_cv(X, y):\n",
    "    scores = cross_validate(model, X, y, cv=5, scoring=('accuracy', 'precision', 'recall', 'f1_weighted', 'roc_auc'), return_train_score = True)\n",
    "    final_scores = {metric : round(np.mean(metric_scores), 3) for metric, metric_scores in scores.items()}\n",
    "    confidence_intervals = {metric : round(np.std(metric_scores), 2) for metric, metric_scores in scores.items()}\n",
    "    return (final_scores, confidence_intervals)"
   ]
  },
  {
   "cell_type": "markdown",
   "metadata": {},
   "source": [
    "## Prédictions sur l'ensemble des données"
   ]
  },
  {
   "cell_type": "code",
   "execution_count": 71,
   "metadata": {
    "tags": []
   },
   "outputs": [
    {
     "name": "stdout",
     "output_type": "stream",
     "text": [
      "              precision    recall  f1-score   support\n",
      "\n",
      "           0       0.26      0.76      0.39       206\n",
      "           1       0.95      0.69      0.80      1411\n",
      "\n",
      "    accuracy                           0.70      1617\n",
      "   macro avg       0.61      0.72      0.59      1617\n",
      "weighted avg       0.86      0.70      0.75      1617\n",
      "\n"
     ]
    },
    {
     "data": {
      "image/png": "[encoded data removed]",
      "text/plain": [
       "<Figure size 432x288 with 1 Axes>"
      ]
     },
     "metadata": {
      "needs_background": "light"
     },
     "output_type": "display_data"
    }
   ],
   "source": [
    "all_data_metrics = compute_metrics(model, df)\n",
    "all_data_metrics"
   ]
  },
  {
   "cell_type": "code",
   "execution_count": 72,
   "metadata": {},
   "outputs": [
    {
     "data": {
      "text/plain": [
       "{'0': {'precision': 0.2678227360308285,\n",
       "  'recall': 0.7354497354497355,\n",
       "  'f1-score': 0.39265536723163846,\n",
       "  'support': 189},\n",
       " '1': {'precision': 0.9507389162561576,\n",
       "  'recall': 0.7174721189591078,\n",
       "  'f1-score': 0.8177966101694916,\n",
       "  'support': 1345},\n",
       " 'accuracy': 0.7196870925684485,\n",
       " 'macro avg': {'precision': 0.609280826143493,\n",
       "  'recall': 0.7264609272044216,\n",
       "  'f1-score': 0.605225988700565,\n",
       "  'support': 1534},\n",
       " 'weighted avg': {'precision': 0.8665986567629456,\n",
       "  'recall': 0.7196870925684485,\n",
       "  'f1-score': 0.7654161050096127,\n",
       "  'support': 1534}}"
      ]
     },
     "execution_count": 72,
     "metadata": {},
     "output_type": "execute_result"
    }
   ],
   "source": [
    "classification_report(model.predict(X), y, output_dict=True)"
   ]
  },
  {
   "cell_type": "markdown",
   "metadata": {},
   "source": [
    "La précision nous indique que le modèle arrive a détecté 68% des commentaires positifs parmi ceux recensés dans le dataset d'entrainement.  \n",
    "Le recall nous indique que parmi les commentaires jugés comme positifs, 95% le sont vraiment.  \n",
    "Le f1 score est une la moyenne harmonique entre la précision et le recall.  \n",
    "Le modèle est juste dans 70% des cas avec un AUC (taux de séparabilité) de 0.76 \n",
    "\n",
    ">Les résultats obtenus sont assez moyens."
   ]
  },
  {
   "cell_type": "markdown",
   "metadata": {},
   "source": [
    "## Evaluation du modèle avec validation croisée\n",
    "\n",
    "La fonction **compute_metrics_cv** réalise une cross-validation pour chaque métrique afin d'obtenir des résultats les plus robustes possibles selon la division entre train et test."
   ]
  },
  {
   "cell_type": "code",
   "execution_count": 63,
   "metadata": {},
   "outputs": [
    {
     "name": "stderr",
     "output_type": "stream",
     "text": [
      "/Users/nohossat/.local/share/virtualenvs/youtube_sentiment_analysis-bsovMP99/lib/python3.8/site-packages/pandas/core/indexing.py:692: SettingWithCopyWarning: \n",
      "A value is trying to be set on a copy of a slice from a DataFrame\n",
      "\n",
      "See the caveats in the documentation: https://pandas.pydata.org/pandas-docs/stable/user_guide/indexing.html#returning-a-view-versus-a-copy\n",
      "  iloc._setitem_with_indexer(indexer, value, self.name)\n"
     ]
    },
    {
     "data": {
      "text/plain": [
       "{'fit_time': 0.473,\n",
       " 'score_time': 0.187,\n",
       " 'test_accuracy': 0.865,\n",
       " 'train_accuracy': 0.999,\n",
       " 'test_precision': 0.883,\n",
       " 'train_precision': 0.999,\n",
       " 'test_recall': 0.918,\n",
       " 'train_recall': 1.0,\n",
       " 'test_f1_weighted': 0.864,\n",
       " 'train_f1_weighted': 0.999,\n",
       " 'test_roc_auc': 0.939,\n",
       " 'train_roc_auc': 1.0}"
      ]
     },
     "execution_count": 63,
     "metadata": {},
     "output_type": "execute_result"
    }
   ],
   "source": [
    "X, y = split_data(df_clean)\n",
    "scores, confidences_intervals = compute_metrics_cv(X, y)\n",
    "scores"
   ]
  },
  {
   "cell_type": "code",
   "execution_count": 64,
   "metadata": {},
   "outputs": [
    {
     "data": {
      "text/plain": [
       "{'fit_time': 0.01,\n",
       " 'score_time': 0.0,\n",
       " 'test_accuracy': 0.01,\n",
       " 'train_accuracy': 0.0,\n",
       " 'test_precision': 0.02,\n",
       " 'train_precision': 0.0,\n",
       " 'test_recall': 0.01,\n",
       " 'train_recall': 0.0,\n",
       " 'test_f1_weighted': 0.01,\n",
       " 'train_f1_weighted': 0.0,\n",
       " 'test_roc_auc': 0.01,\n",
       " 'train_roc_auc': 0.0}"
      ]
     },
     "execution_count": 64,
     "metadata": {},
     "output_type": "execute_result"
    }
   ],
   "source": [
    "confidences_intervals"
   ]
  },
  {
   "cell_type": "markdown",
   "metadata": {},
   "source": [
    "### Interprétation résultats\n",
    "\n",
    "Le fit_time est de 0.517 secondes et le score time de 0.198 secondes donc assez rapides.\n",
    "\n",
    "La précision nous indique que le modèle arrive à détecter 99.9% des commentaires positifs parmi ceux recensés dans le dataset de train mais seulement 89.8% sur le dataset de test.\n",
    "Le recall nous indique que parmi les commentaires jugés comme positifs, ils le sont tous effectivement sur le dataset de train, ce score tombe à 91% pour les données de test. \n",
    "\n",
    "**On observe que ces deux métriques sont assez bonnes donc le léger déséquilibre dans la polarité des commentaires ne semblent pas peser sur la capacité prédictive du modèle.**\n",
    "\n",
    "Le modèle est juste à 99.9% sur les données de train et à 88% sur les données de test. \n",
    "Le taux de séparabilité (AUC) est de 1 pour les données de train : le modèle distingue parfaitement les commentaires positifs des commentaires négatifs. Ce taux tombe à 0.94 sur les données de test.\n",
    "\n",
    "Au vue des résultats parfaits sur les données de train de la fonction cross_validate, il semblerait ce dataset que le modèle ait été entraîné sur une partie de dataset seulement. Par contre, si cette hypothèse est juste, le modèle aurait surappris les données de train, ce qui est reflété par l'écart substantiel entre les performances du modèle sur les données de train et de test.\n",
    "\n",
    "> HYPOTHESE : surapprentissage du modèle"
   ]
  },
  {
   "cell_type": "markdown",
   "metadata": {},
   "source": [
    "## Actions correctrices\n",
    "\n",
    "### Transform data before saving them into a Mongo DB"
   ]
  },
  {
   "cell_type": "code",
   "execution_count": 74,
   "metadata": {},
   "outputs": [],
   "source": [
    "df_clean.to_csv(\"../data/comments.csv\", index = False)"
   ]
  },
  {
   "cell_type": "markdown",
   "metadata": {},
   "source": [
    "### Create a dataset with sentiment values"
   ]
  },
  {
   "cell_type": "code",
   "execution_count": 28,
   "metadata": {},
   "outputs": [
    {
     "data": {
      "text/html": [
       "<div>\n",
       "<style scoped>\n",
       "    .dataframe tbody tr th:only-of-type {\n",
       "        vertical-align: middle;\n",
       "    }\n",
       "\n",
       "    .dataframe tbody tr th {\n",
       "        vertical-align: top;\n",
       "    }\n",
       "\n",
       "    .dataframe thead th {\n",
       "        text-align: right;\n",
       "    }\n",
       "</style>\n",
       "<table border=\"1\" class=\"dataframe\">\n",
       "  <thead>\n",
       "    <tr style=\"text-align: right;\">\n",
       "      <th></th>\n",
       "      <th>comment</th>\n",
       "      <th>sentiment</th>\n",
       "    </tr>\n",
       "  </thead>\n",
       "  <tbody>\n",
       "    <tr>\n",
       "      <th>0</th>\n",
       "      <td>J'ai réservé ma table quelques mois à l'avance...</td>\n",
       "      <td>Positive</td>\n",
       "    </tr>\n",
       "    <tr>\n",
       "      <th>1</th>\n",
       "      <td>Que dire... Nicolas sale est un chef d excepti...</td>\n",
       "      <td>Positive</td>\n",
       "    </tr>\n",
       "    <tr>\n",
       "      <th>2</th>\n",
       "      <td>Dans une rue tranquille non loin du Panthéon u...</td>\n",
       "      <td>Positive</td>\n",
       "    </tr>\n",
       "    <tr>\n",
       "      <th>3</th>\n",
       "      <td>Rien à redire le restaurant est irréprochablem...</td>\n",
       "      <td>Positive</td>\n",
       "    </tr>\n",
       "    <tr>\n",
       "      <th>4</th>\n",
       "      <td>Comme avec les autres commentaires nos repas é...</td>\n",
       "      <td>Positive</td>\n",
       "    </tr>\n",
       "  </tbody>\n",
       "</table>\n",
       "</div>"
      ],
      "text/plain": [
       "                                             comment sentiment\n",
       "0  J'ai réservé ma table quelques mois à l'avance...  Positive\n",
       "1  Que dire... Nicolas sale est un chef d excepti...  Positive\n",
       "2  Dans une rue tranquille non loin du Panthéon u...  Positive\n",
       "3  Rien à redire le restaurant est irréprochablem...  Positive\n",
       "4  Comme avec les autres commentaires nos repas é...  Positive"
      ]
     },
     "execution_count": 28,
     "metadata": {},
     "output_type": "execute_result"
    }
   ],
   "source": [
    "df1 = pd.read_csv(\"data/comments_train.csv\")\n",
    "df1.head()"
   ]
  },
  {
   "cell_type": "code",
   "execution_count": 45,
   "metadata": {},
   "outputs": [],
   "source": [
    "sentiments = pd.DataFrame([{\"Sentiment\": \"Negative\", \"Value\" : 0}, {\"Sentiment\" : \"Positive\", \"Value\" : 1}])\n",
    "sentiments.to_csv(\"mongo/sentiments.csv\", index = False)"
   ]
  }
 ],
 "metadata": {
  "kernelspec": {
   "display_name": "Python 3",
   "language": "python",
   "name": "python3"
  },
  "language_info": {
   "codemirror_mode": {
    "name": "ipython",
    "version": 3
   },
   "file_extension": ".py",
   "mimetype": "text/x-python",
   "name": "python",
   "nbconvert_exporter": "python",
   "pygments_lexer": "ipython3",
   "version": "3.8.5"
  }
 },
 "nbformat": 4,
 "nbformat_minor": 4
}
